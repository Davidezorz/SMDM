{
 "cells": [
  {
   "cell_type": "code",
   "execution_count": 2,
   "id": "873a2465",
   "metadata": {},
   "outputs": [],
   "source": [
    "import hydra\n",
    "import importlib\n",
    "import torch\n",
    "import torch.nn as nn"
   ]
  },
  {
   "cell_type": "code",
   "execution_count": 2,
   "id": "43210298",
   "metadata": {},
   "outputs": [
    {
     "data": {
      "text/plain": [
       "{'name': 'tiny', 'type': 'ddit', 'hidden_size': 256, 'cond_dim': 64, 'length': 1024, 'n_blocks': 8, 'n_heads': 8, 'scale_by_sigma': True, 'dropout': 0.1, 'tie_word_embeddings': False}"
      ]
     },
     "execution_count": 2,
     "metadata": {},
     "output_type": "execute_result"
    }
   ],
   "source": [
    "def get_config():\n",
    "    params = ['model=tiny',\\\n",
    "                'data=openwebtext-split',\n",
    "                'wandb.name=mdlm-owt',\\\n",
    "                'parameterization=subs',\\\n",
    "                'model.length=1024',\\\n",
    "                'eval.compute_generative_perplexity=True',\\\n",
    "                'sampling.steps=1000']\n",
    "    with hydra.initialize(version_base=None, config_path=\"configs\"):\n",
    "        config = hydra.compose(config_name=\"config\", overrides=params)\n",
    "    return config\n",
    "\n",
    "config = get_config()\n",
    "config.model"
   ]
  },
  {
   "cell_type": "code",
   "execution_count": 59,
   "id": "f65dfadd",
   "metadata": {},
   "outputs": [],
   "source": [
    "import models.dit\n",
    "importlib.reload(models.dit)\n",
    "from models.dit import *"
   ]
  },
  {
   "cell_type": "code",
   "execution_count": null,
   "id": "6853b37c",
   "metadata": {},
   "outputs": [
    {
     "name": "stderr",
     "output_type": "stream",
     "text": [
      "/home/davide/Documents/SMDM/.venv/lib/python3.12/site-packages/torch/amp/autocast_mode.py:250: UserWarning: User provided device_type of 'cuda', but CUDA is not available. Disabling\n",
      "  warnings.warn(\n"
     ]
    },
    {
     "data": {
      "text/plain": [
       "tensor([[[0., 0., 0.,  ..., 0., 0., 0.],\n",
       "         [0., 0., 0.,  ..., 0., 0., 0.],\n",
       "         [0., 0., 0.,  ..., 0., 0., 0.],\n",
       "         ...,\n",
       "         [0., 0., 0.,  ..., 0., 0., 0.],\n",
       "         [0., 0., 0.,  ..., 0., 0., 0.],\n",
       "         [0., 0., 0.,  ..., 0., 0., 0.]],\n",
       "\n",
       "        [[0., 0., 0.,  ..., 0., 0., 0.],\n",
       "         [0., 0., 0.,  ..., 0., 0., 0.],\n",
       "         [0., 0., 0.,  ..., 0., 0., 0.],\n",
       "         ...,\n",
       "         [0., 0., 0.,  ..., 0., 0., 0.],\n",
       "         [0., 0., 0.,  ..., 0., 0., 0.],\n",
       "         [0., 0., 0.,  ..., 0., 0., 0.]]], grad_fn=<ViewBackward0>)"
      ]
     },
     "execution_count": 4,
     "metadata": {},
     "output_type": "execute_result"
    }
   ],
   "source": [
    "B = 2      # batch size\n",
    "T = 512    # token window\n",
    "C = 256    # embedding dimension (in config)\n",
    "V = 2**10  # vocab size\n",
    "\n",
    "dit = DIT(config, V)\n",
    "\n",
    "x = torch.randint(0, 10, (B, T) )\n",
    "\n",
    "\n",
    "out = dit(x, torch.zeros(B) )\n",
    "out"
   ]
  },
  {
   "cell_type": "code",
   "execution_count": 10,
   "id": "bbe92f6d",
   "metadata": {},
   "outputs": [],
   "source": [
    "out = dit(x, torch.zeros(B) )"
   ]
  },
  {
   "cell_type": "code",
   "execution_count": 11,
   "id": "4d02733e",
   "metadata": {},
   "outputs": [],
   "source": [
    "out.sum().backward()"
   ]
  },
  {
   "cell_type": "markdown",
   "id": "45803926",
   "metadata": {},
   "source": [
    "<br>\n",
    "<br>\n",
    "<br>\n",
    "<br>"
   ]
  },
  {
   "cell_type": "code",
   "execution_count": null,
   "id": "cdb68bcf",
   "metadata": {},
   "outputs": [],
   "source": [
    "dit = DIT(config, V)\n",
    "\n",
    "x = torch.randint(0, 10, (B, T) )\n",
    "\n",
    "\n",
    "out = dit(x, torch.zeros(B) )\n",
    "out"
   ]
  },
  {
   "cell_type": "code",
   "execution_count": 8,
   "id": "0a9644ab",
   "metadata": {},
   "outputs": [],
   "source": [
    "B, T, C = 2, 4, 32\n",
    "H = 2\n",
    "V = 2**10  \n",
    "x = torch.rand(B, T, C)\n",
    "t = torch.randint(0, 100, (B, ))"
   ]
  },
  {
   "cell_type": "code",
   "execution_count": 5,
   "id": "c26584b4",
   "metadata": {},
   "outputs": [],
   "source": [
    "t_dim = 8\n",
    "cond_dim = 12"
   ]
  },
  {
   "cell_type": "code",
   "execution_count": 6,
   "id": "bb12c0f2",
   "metadata": {},
   "outputs": [],
   "source": [
    "import dit2\n",
    "importlib.reload(dit2)\n",
    "from dit2 import DiTBlock, Rotary, TimestepEmbedder "
   ]
  },
  {
   "cell_type": "code",
   "execution_count": 9,
   "id": "cbef3402",
   "metadata": {},
   "outputs": [],
   "source": [
    "indices = torch.randint(0, V, (B, T))\n",
    "sigma = torch.randint(0, V, (B,))\n",
    "\n",
    "dit_2 = dit2.DIT(\n",
    "         V = V,                # vocabulary size\n",
    "         C = C,                # embedding dimension\n",
    "         H = H,                # number of heads\n",
    "         cond_dim = cond_dim,  # internal dimension for conditioning\n",
    "         N = 3,                # number of blocks\n",
    "         p = 0.1               # probability of dropout\n",
    "         )\n"
   ]
  },
  {
   "cell_type": "code",
   "execution_count": 10,
   "id": "1a3eb42b",
   "metadata": {},
   "outputs": [
    {
     "name": "stderr",
     "output_type": "stream",
     "text": [
      "/home/davide/Documents/SMDM/.venv/lib/python3.12/site-packages/torch/amp/autocast_mode.py:250: UserWarning: User provided device_type of 'cuda', but CUDA is not available. Disabling\n",
      "  warnings.warn(\n"
     ]
    },
    {
     "data": {
      "text/plain": [
       "tensor([[[0., 0., 0.,  ..., 0., 0., 0.],\n",
       "         [0., 0., 0.,  ..., 0., 0., 0.],\n",
       "         [0., 0., 0.,  ..., 0., 0., 0.],\n",
       "         [0., 0., 0.,  ..., 0., 0., 0.]],\n",
       "\n",
       "        [[0., 0., 0.,  ..., 0., 0., 0.],\n",
       "         [0., 0., 0.,  ..., 0., 0., 0.],\n",
       "         [0., 0., 0.,  ..., 0., 0., 0.],\n",
       "         [0., 0., 0.,  ..., 0., 0., 0.]]], grad_fn=<ViewBackward0>)"
      ]
     },
     "execution_count": 10,
     "metadata": {},
     "output_type": "execute_result"
    }
   ],
   "source": [
    "dit_2(indices, sigma)"
   ]
  }
 ],
 "metadata": {
  "kernelspec": {
   "display_name": ".venv (3.12.3)",
   "language": "python",
   "name": "python3"
  },
  "language_info": {
   "codemirror_mode": {
    "name": "ipython",
    "version": 3
   },
   "file_extension": ".py",
   "mimetype": "text/x-python",
   "name": "python",
   "nbconvert_exporter": "python",
   "pygments_lexer": "ipython3",
   "version": "3.12.3"
  }
 },
 "nbformat": 4,
 "nbformat_minor": 5
}
