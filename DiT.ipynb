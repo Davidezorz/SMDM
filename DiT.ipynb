{
 "cells": [
  {
   "cell_type": "code",
   "execution_count": 1,
   "id": "873a2465",
   "metadata": {},
   "outputs": [],
   "source": [
    "import hydra\n",
    "import importlib\n",
    "import torch\n",
    "import torch.nn as nn"
   ]
  },
  {
   "cell_type": "code",
   "execution_count": 2,
   "id": "43210298",
   "metadata": {},
   "outputs": [
    {
     "data": {
      "text/plain": [
       "{'name': 'tiny', 'type': 'ddit', 'hidden_size': 256, 'cond_dim': 64, 'length': 1024, 'n_blocks': 8, 'n_heads': 8, 'scale_by_sigma': True, 'dropout': 0.1, 'tie_word_embeddings': False}"
      ]
     },
     "execution_count": 2,
     "metadata": {},
     "output_type": "execute_result"
    }
   ],
   "source": [
    "def get_config():\n",
    "    params = ['model=tiny',\\\n",
    "                'data=openwebtext-split',\n",
    "                'wandb.name=mdlm-owt',\\\n",
    "                'parameterization=subs',\\\n",
    "                'model.length=1024',\\\n",
    "                'eval.compute_generative_perplexity=True',\\\n",
    "                'sampling.steps=1000']\n",
    "    with hydra.initialize(version_base=None, config_path=\"configs\"):\n",
    "        config = hydra.compose(config_name=\"config\", overrides=params)\n",
    "    return config\n",
    "\n",
    "config = get_config()\n",
    "config.model"
   ]
  },
  {
   "cell_type": "code",
   "execution_count": 3,
   "id": "f65dfadd",
   "metadata": {},
   "outputs": [
    {
     "name": "stderr",
     "output_type": "stream",
     "text": [
      "/home/davide/Documents/SMDM/.venv/lib/python3.12/site-packages/tqdm/auto.py:21: TqdmWarning: IProgress not found. Please update jupyter and ipywidgets. See https://ipywidgets.readthedocs.io/en/stable/user_install.html\n",
      "  from .autonotebook import tqdm as notebook_tqdm\n"
     ]
    }
   ],
   "source": [
    "import models.dit\n",
    "importlib.reload(models.dit)\n",
    "from models.dit import *"
   ]
  },
  {
   "cell_type": "code",
   "execution_count": null,
   "id": "6853b37c",
   "metadata": {},
   "outputs": [
    {
     "name": "stderr",
     "output_type": "stream",
     "text": [
      "/home/davide/Documents/SMDM/.venv/lib/python3.12/site-packages/torch/amp/autocast_mode.py:250: UserWarning: User provided device_type of 'cuda', but CUDA is not available. Disabling\n",
      "  warnings.warn(\n"
     ]
    },
    {
     "data": {
      "text/plain": [
       "tensor([[[0., 0., 0.,  ..., 0., 0., 0.],\n",
       "         [0., 0., 0.,  ..., 0., 0., 0.],\n",
       "         [0., 0., 0.,  ..., 0., 0., 0.],\n",
       "         ...,\n",
       "         [0., 0., 0.,  ..., 0., 0., 0.],\n",
       "         [0., 0., 0.,  ..., 0., 0., 0.],\n",
       "         [0., 0., 0.,  ..., 0., 0., 0.]],\n",
       "\n",
       "        [[0., 0., 0.,  ..., 0., 0., 0.],\n",
       "         [0., 0., 0.,  ..., 0., 0., 0.],\n",
       "         [0., 0., 0.,  ..., 0., 0., 0.],\n",
       "         ...,\n",
       "         [0., 0., 0.,  ..., 0., 0., 0.],\n",
       "         [0., 0., 0.,  ..., 0., 0., 0.],\n",
       "         [0., 0., 0.,  ..., 0., 0., 0.]],\n",
       "\n",
       "        [[0., 0., 0.,  ..., 0., 0., 0.],\n",
       "         [0., 0., 0.,  ..., 0., 0., 0.],\n",
       "         [0., 0., 0.,  ..., 0., 0., 0.],\n",
       "         ...,\n",
       "         [0., 0., 0.,  ..., 0., 0., 0.],\n",
       "         [0., 0., 0.,  ..., 0., 0., 0.],\n",
       "         [0., 0., 0.,  ..., 0., 0., 0.]],\n",
       "\n",
       "        ...,\n",
       "\n",
       "        [[0., 0., 0.,  ..., 0., 0., 0.],\n",
       "         [0., 0., 0.,  ..., 0., 0., 0.],\n",
       "         [0., 0., 0.,  ..., 0., 0., 0.],\n",
       "         ...,\n",
       "         [0., 0., 0.,  ..., 0., 0., 0.],\n",
       "         [0., 0., 0.,  ..., 0., 0., 0.],\n",
       "         [0., 0., 0.,  ..., 0., 0., 0.]],\n",
       "\n",
       "        [[0., 0., 0.,  ..., 0., 0., 0.],\n",
       "         [0., 0., 0.,  ..., 0., 0., 0.],\n",
       "         [0., 0., 0.,  ..., 0., 0., 0.],\n",
       "         ...,\n",
       "         [0., 0., 0.,  ..., 0., 0., 0.],\n",
       "         [0., 0., 0.,  ..., 0., 0., 0.],\n",
       "         [0., 0., 0.,  ..., 0., 0., 0.]],\n",
       "\n",
       "        [[0., 0., 0.,  ..., 0., 0., 0.],\n",
       "         [0., 0., 0.,  ..., 0., 0., 0.],\n",
       "         [0., 0., 0.,  ..., 0., 0., 0.],\n",
       "         ...,\n",
       "         [0., 0., 0.,  ..., 0., 0., 0.],\n",
       "         [0., 0., 0.,  ..., 0., 0., 0.],\n",
       "         [0., 0., 0.,  ..., 0., 0., 0.]]], grad_fn=<ViewBackward0>)"
      ]
     },
     "execution_count": 4,
     "metadata": {},
     "output_type": "execute_result"
    }
   ],
   "source": [
    "B = 16     # batch size\n",
    "T = 512    # token window\n",
    "C = 256    #  embedding dimension (in config)\n",
    "V = 2**10  # vocab size\n",
    "\n",
    "dit = DIT(config, V)\n",
    "\n",
    "x = torch.randint(0, 10, (B, T) )\n",
    "\n",
    "\n",
    "out = dit(x, torch.zeros(B) )\n",
    "out"
   ]
  },
  {
   "cell_type": "markdown",
   "id": "45803926",
   "metadata": {},
   "source": [
    "<br>\n",
    "<br>\n",
    "<br>\n",
    "<br>"
   ]
  },
  {
   "cell_type": "code",
   "execution_count": 3,
   "id": "c3bcdcf9",
   "metadata": {},
   "outputs": [],
   "source": [
    "class Rotary(torch.nn.Module):\n",
    "  def __init__(self, dim, base=10_000):\n",
    "    super().__init__()\n",
    "    inv_freq = 1.0 / (base ** (torch.arange(0, dim, 2).float() / dim))\n",
    "    self.register_buffer('inv_freq', inv_freq)\n",
    "    self.seq_len_cached = None\n",
    "    self.cos_cached = None\n",
    "    self.sin_cached = None\n",
    "\n",
    "  def forward(self, x, seq_dim=1):\n",
    "    seq_len = x.shape[seq_dim]\n",
    "    if seq_len != self.seq_len_cached:\n",
    "      self.seq_len_cached = seq_len\n",
    "      t = torch.arange(x.shape[seq_dim], device=x.device).type_as(self.inv_freq)\n",
    "      freqs = torch.einsum(\"i,j->ij\", t, self.inv_freq.clone())\n",
    "      emb = torch.cat((freqs, freqs), dim=-1).to(x.device)\n",
    "      # dims are: batch, seq_len, qkv, head, dim\n",
    "      self.cos_cached = emb.cos()[None, :, None, None, :].repeat(1,1,3,1,1)\n",
    "      self.sin_cached = emb.sin()[None, :, None, None, :].repeat(1,1,3,1,1)\n",
    "      # This makes the transformation on v an identity.\n",
    "      self.cos_cached[:,:,2,:,:].fill_(1.)\n",
    "      self.sin_cached[:,:,2,:,:].fill_(0.)\n",
    "\n",
    "    return self.cos_cached, self.sin_cached"
   ]
  },
  {
   "cell_type": "code",
   "execution_count": 69,
   "id": "57722d74",
   "metadata": {},
   "outputs": [],
   "source": [
    "def rotate_half(x):\n",
    "  x1, x2 = x[..., : x.shape[-1] // 2], x[..., x.shape[-1] // 2 :]\n",
    "  return torch.cat((-x2, x1), dim=-1)"
   ]
  },
  {
   "cell_type": "code",
   "execution_count": 78,
   "id": "af5eda0a",
   "metadata": {},
   "outputs": [
    {
     "data": {
      "text/plain": [
       "tensor([[[68, 13, 24, 92, 81, 81, 66, 48,  9, 12],\n",
       "         [53, 50, 45, 39, 81, 50, 74, 16, 95, 77]],\n",
       "\n",
       "        [[ 6, 40, 77, 37, 26, 88,  6, 84, 10, 87],\n",
       "         [97, 56, 38, 20, 92, 81, 61, 17, 72,  2]]])"
      ]
     },
     "execution_count": 78,
     "metadata": {},
     "output_type": "execute_result"
    }
   ],
   "source": [
    "x"
   ]
  },
  {
   "cell_type": "code",
   "execution_count": 79,
   "id": "0b953e69",
   "metadata": {},
   "outputs": [
    {
     "data": {
      "text/plain": [
       "tensor([[[-81, -66, -48,  -9, -12,  68,  13,  24,  92,  81],\n",
       "         [-50, -74, -16, -95, -77,  53,  50,  45,  39,  81]],\n",
       "\n",
       "        [[-88,  -6, -84, -10, -87,   6,  40,  77,  37,  26],\n",
       "         [-81, -61, -17, -72,  -2,  97,  56,  38,  20,  92]]])"
      ]
     },
     "execution_count": 79,
     "metadata": {},
     "output_type": "execute_result"
    }
   ],
   "source": [
    "rotate_half(x)"
   ]
  },
  {
   "cell_type": "code",
   "execution_count": 76,
   "id": "6dee2ea0",
   "metadata": {},
   "outputs": [
    {
     "data": {
      "text/plain": [
       "torch.Size([1, 4, 3, 1, 8])"
      ]
     },
     "execution_count": 76,
     "metadata": {},
     "output_type": "execute_result"
    }
   ],
   "source": [
    "B, T, C = 2, 4, 8\n",
    "input = torch.ones((B, T, C))\n",
    "\n",
    "r = Rotary(C)\n",
    "cos, sin = r(input)\n",
    "cos.shape"
   ]
  },
  {
   "cell_type": "code",
   "execution_count": 82,
   "id": "04720450",
   "metadata": {},
   "outputs": [
    {
     "data": {
      "text/plain": [
       "tensor([[0.0000, 0.0000, 0.0000, 0.0000, 0.0000, 0.0000, 0.0000, 0.0000],\n",
       "        [0.8415, 0.0998, 0.0100, 0.0010, 0.8415, 0.0998, 0.0100, 0.0010],\n",
       "        [0.9093, 0.1987, 0.0200, 0.0020, 0.9093, 0.1987, 0.0200, 0.0020],\n",
       "        [0.1411, 0.2955, 0.0300, 0.0030, 0.1411, 0.2955, 0.0300, 0.0030]])"
      ]
     },
     "execution_count": 82,
     "metadata": {},
     "output_type": "execute_result"
    }
   ],
   "source": [
    "sin[0,:,0,0,:]"
   ]
  },
  {
   "cell_type": "code",
   "execution_count": 55,
   "id": "1b669af8",
   "metadata": {},
   "outputs": [
    {
     "data": {
      "text/plain": [
       "tensor([[ 1.0000,  1.0000,  1.0000,  1.0000],\n",
       "        [ 0.5403,  0.9950,  0.9999,  1.0000],\n",
       "        [-0.4161,  0.9801,  0.9998,  1.0000],\n",
       "        [-0.9900,  0.9553,  0.9996,  1.0000]])"
      ]
     },
     "execution_count": 55,
     "metadata": {},
     "output_type": "execute_result"
    }
   ],
   "source": [
    "cos[0,:,0,0,:cos.shape[-1]//2]"
   ]
  },
  {
   "cell_type": "code",
   "execution_count": 39,
   "id": "78582e22",
   "metadata": {},
   "outputs": [
    {
     "data": {
      "text/plain": [
       "tensor([1.0000, 0.0100])"
      ]
     },
     "execution_count": 39,
     "metadata": {},
     "output_type": "execute_result"
    }
   ],
   "source": [
    "r.inv_freq"
   ]
  },
  {
   "cell_type": "code",
   "execution_count": 41,
   "id": "309be496",
   "metadata": {},
   "outputs": [
    {
     "data": {
      "text/plain": [
       "tensor([0., 1., 2., 3.])"
      ]
     },
     "execution_count": 41,
     "metadata": {},
     "output_type": "execute_result"
    }
   ],
   "source": [
    "t = torch.arange(4).type_as(r.inv_freq)\n",
    "t"
   ]
  },
  {
   "cell_type": "code",
   "execution_count": 42,
   "id": "23fecd02",
   "metadata": {},
   "outputs": [
    {
     "data": {
      "text/plain": [
       "tensor([[0.0000, 0.0000],\n",
       "        [1.0000, 0.0100],\n",
       "        [2.0000, 0.0200],\n",
       "        [3.0000, 0.0300]])"
      ]
     },
     "execution_count": 42,
     "metadata": {},
     "output_type": "execute_result"
    }
   ],
   "source": [
    "freqs = torch.einsum(\"i,j->ij\", t, r.inv_freq.clone())\n",
    "freqs"
   ]
  },
  {
   "cell_type": "code",
   "execution_count": 48,
   "id": "fe22121f",
   "metadata": {},
   "outputs": [
    {
     "name": "stdout",
     "output_type": "stream",
     "text": [
      "torch.Size([4, 4])\n"
     ]
    },
    {
     "data": {
      "text/plain": [
       "torch.Size([1, 4, 1, 1, 4])"
      ]
     },
     "execution_count": 48,
     "metadata": {},
     "output_type": "execute_result"
    }
   ],
   "source": [
    "emb = torch.cat((freqs, freqs), dim=-1)\n",
    "print(emb.shape)\n",
    "emb[None, :, None, None, :].shape"
   ]
  }
 ],
 "metadata": {
  "kernelspec": {
   "display_name": ".venv (3.12.3)",
   "language": "python",
   "name": "python3"
  },
  "language_info": {
   "codemirror_mode": {
    "name": "ipython",
    "version": 3
   },
   "file_extension": ".py",
   "mimetype": "text/x-python",
   "name": "python",
   "nbconvert_exporter": "python",
   "pygments_lexer": "ipython3",
   "version": "3.12.3"
  }
 },
 "nbformat": 4,
 "nbformat_minor": 5
}
